{
 "cells": [
  {
   "cell_type": "markdown",
   "metadata": {},
   "source": [
    "# Studies in Python"
   ]
  },
  {
   "cell_type": "markdown",
   "metadata": {},
   "source": [
    "### Working with strings "
   ]
  },
  {
   "cell_type": "code",
   "execution_count": null,
   "metadata": {},
   "outputs": [],
   "source": [
    "# Capital Letters"
   ]
  },
  {
   "attachments": {},
   "cell_type": "markdown",
   "metadata": {},
   "source": [
    "### Algoritmo de Pesquisa Binária"
   ]
  },
  {
   "cell_type": "code",
   "execution_count": 27,
   "metadata": {},
   "outputs": [
    {
     "name": "stdout",
     "output_type": "stream",
     "text": [
      "None\n",
      "None\n",
      "3\n"
     ]
    }
   ],
   "source": [
    "def  pesquisa_binaria (lista, item):\n",
    "    baixo = 0\n",
    "    alto = len(lista) -1\n",
    "    while  baixo <= alto:\n",
    "        meio = round((baixo + alto) / 2)\n",
    "        chute = lista[meio]\n",
    "        if chute == item:\n",
    "            return meio\n",
    "        if chute > item:\n",
    "            alto = meio -1\n",
    "        else:\n",
    "            baixo = meio +1\n",
    "    return None\n",
    "\n",
    "minha_lista = [1, 2, 5, 7, 9]\n",
    "\n",
    "\n",
    "print  (pesquisa_binaria(minha_lista,  3))\n",
    "print  (pesquisa_binaria(minha_lista, -1))\n",
    "print (pesquisa_binaria(minha_lista,  7))"
   ]
  },
  {
   "cell_type": "markdown",
   "metadata": {},
   "source": [
    "### Functions "
   ]
  },
  {
   "cell_type": "code",
   "execution_count": 5,
   "metadata": {},
   "outputs": [
    {
     "name": "stdout",
     "output_type": "stream",
     "text": [
      "100\n"
     ]
    }
   ],
   "source": [
    "def quadrado(x):\n",
    "    y = x*x\n",
    "    return y\n",
    "\n",
    "n = quadrado(10)\n",
    "\n",
    "print(n)"
   ]
  },
  {
   "cell_type": "code",
   "execution_count": 8,
   "metadata": {},
   "outputs": [
    {
     "name": "stdout",
     "output_type": "stream",
     "text": [
      "o quadro do número é: 4.0\n"
     ]
    }
   ],
   "source": [
    "def  numquad():\n",
    "    num = float(input(\"Digite um número: \"))\n",
    "    quadrado = num ** 2\n",
    "    print(f\"o quadro do número é: {quadrado}\")\n",
    "    \n",
    "numquad()    "
   ]
  },
  {
   "cell_type": "code",
   "execution_count": 2,
   "metadata": {},
   "outputs": [
    {
     "name": "stdout",
     "output_type": "stream",
     "text": [
      "Meu nome é Thiago\n"
     ]
    }
   ],
   "source": [
    "nome = input(\"digite seu nome: \")\n",
    "\n",
    "print(f\"Meu nome é {nome}\" )"
   ]
  },
  {
   "cell_type": "markdown",
   "metadata": {},
   "source": [
    "# Working with list"
   ]
  },
  {
   "cell_type": "code",
   "execution_count": 1,
   "metadata": {},
   "outputs": [],
   "source": [
    "bicycles = ['Trek','cannondale','redline','specialized']"
   ]
  },
  {
   "cell_type": "code",
   "execution_count": 4,
   "metadata": {},
   "outputs": [
    {
     "name": "stdout",
     "output_type": "stream",
     "text": [
      "Trek cannondale\n"
     ]
    }
   ],
   "source": [
    "print(bicycles[0], bicycles[1])"
   ]
  },
  {
   "cell_type": "code",
   "execution_count": 8,
   "metadata": {},
   "outputs": [
    {
     "name": "stdout",
     "output_type": "stream",
     "text": [
      "['Trek', 'cannondale', 'redline', 'specialized']\n",
      "['Trek', 'cannondale', 'redline', 'specialized']\n",
      "['Trek', 'cannondale', 'redline', 'specialized']\n",
      "['Trek', 'cannondale', 'redline', 'specialized']\n"
     ]
    }
   ],
   "source": [
    "for i in range(len(bicycles)):\n",
    "    print(bicycles)"
   ]
  },
  {
   "cell_type": "code",
   "execution_count": 18,
   "metadata": {},
   "outputs": [
    {
     "name": "stdout",
     "output_type": "stream",
     "text": [
      "número é  1 impar\n",
      "o número é 2 par\n",
      "número é  3 impar\n",
      "o número é 4 par\n",
      "número é  5 impar\n",
      "o número é 6 par\n",
      "número é  7 impar\n",
      "o número é 8 par\n",
      "número é  9 impar\n",
      "o número é 10 par\n"
     ]
    }
   ],
   "source": [
    "# exercicio para indicar se um numero eh par ou impar\n",
    "umeros = [1, 2, 3, 4, 5, 6, 7, 8, 9, 10]\n",
    "\n",
    "for n in numeros:\n",
    "    if n%2 == 0:\n",
    "        print(\"o número é \" + str(n) + \" par\")\n",
    "    else:\n",
    "        print(\"número é  \"+ str(n) + \" impar\")"
   ]
  },
  {
   "cell_type": "code",
   "execution_count": 21,
   "metadata": {},
   "outputs": [
    {
     "name": "stdout",
     "output_type": "stream",
     "text": [
      "A soma é 15\n"
     ]
    }
   ],
   "source": [
    "# exercicio para somar valores de uma lista\n",
    "\n",
    "numeros = [1, 2, 3, 4, 5]\n",
    "\n",
    "soma = 0\n",
    "\n",
    "for n in numeros:\n",
    "    soma=soma + n\n",
    "print(\"A soma é \"+ str(soma))"
   ]
  },
  {
   "cell_type": "code",
   "execution_count": null,
   "metadata": {},
   "outputs": [],
   "source": [
    "#  faotrial de um numero"
   ]
  }
 ],
 "metadata": {
  "kernelspec": {
   "display_name": "Python 3",
   "language": "python",
   "name": "python3"
  },
  "language_info": {
   "codemirror_mode": {
    "name": "ipython",
    "version": 3
   },
   "file_extension": ".py",
   "mimetype": "text/x-python",
   "name": "python",
   "nbconvert_exporter": "python",
   "pygments_lexer": "ipython3",
   "version": "3.9.16+"
  },
  "orig_nbformat": 4,
  "vscode": {
   "interpreter": {
    "hash": "ef45b6e33d83214dc3f38c7cb493df1c60e710c11f51dd45a20f2f41eedc45a7"
   }
  }
 },
 "nbformat": 4,
 "nbformat_minor": 2
}
