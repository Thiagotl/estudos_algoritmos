{
 "cells": [
  {
   "attachments": {},
   "cell_type": "markdown",
   "metadata": {},
   "source": [
    "## Algoritmo de Pesquisa Binária"
   ]
  },
  {
   "cell_type": "code",
   "execution_count": null,
   "metadata": {},
   "outputs": [],
   "source": [
    "def  pesquisa_binaria (lista, item):\n",
    "    baixo = 0\n",
    "    alto = len(lista) -1\n",
    "    while  baixo <= alto:\n",
    "        meio = (baixo + alto) / 2\n",
    "        chute = lista[meio]\n",
    "        if chute == item:\n",
    "            return meio\n",
    "        elif chute > item:\n",
    "            alto = meio -1\n",
    "        else:\n",
    "            baixo = meio +1\n",
    "    return None\n",
    "\n",
    "minha_lista = [1, 2, 5, 7, 9]"
   ]
  }
 ],
 "metadata": {
  "language_info": {
   "name": "python"
  },
  "orig_nbformat": 4
 },
 "nbformat": 4,
 "nbformat_minor": 2
}
