{
 "cells": [
  {
   "cell_type": "markdown",
   "metadata": {},
   "source": [
    "# Studies in Python"
   ]
  },
  {
   "cell_type": "markdown",
   "metadata": {},
   "source": [
    "### Working with strings "
   ]
  },
  {
   "cell_type": "code",
   "execution_count": null,
   "metadata": {},
   "outputs": [],
   "source": [
    "# Capital Letters"
   ]
  },
  {
   "attachments": {},
   "cell_type": "markdown",
   "metadata": {},
   "source": [
    "### Algoritmo de Pesquisa Binária"
   ]
  },
  {
   "cell_type": "code",
   "execution_count": 27,
   "metadata": {},
   "outputs": [
    {
     "name": "stdout",
     "output_type": "stream",
     "text": [
      "None\n",
      "None\n",
      "3\n"
     ]
    }
   ],
   "source": [
    "def  pesquisa_binaria (lista, item):\n",
    "    baixo = 0\n",
    "    alto = len(lista) -1\n",
    "    while  baixo <= alto:\n",
    "        meio = round((baixo + alto) / 2)\n",
    "        chute = lista[meio]\n",
    "        if chute == item:\n",
    "            return meio\n",
    "        if chute > item:\n",
    "            alto = meio -1\n",
    "        else:\n",
    "            baixo = meio +1\n",
    "    return None\n",
    "\n",
    "minha_lista = [1, 2, 5, 7, 9]\n",
    "\n",
    "\n",
    "print  (pesquisa_binaria(minha_lista,  3))\n",
    "print  (pesquisa_binaria(minha_lista, -1))\n",
    "print (pesquisa_binaria(minha_lista,  7))"
   ]
  },
  {
   "cell_type": "markdown",
   "metadata": {},
   "source": [
    "### Functions "
   ]
  },
  {
   "cell_type": "code",
   "execution_count": 5,
   "metadata": {},
   "outputs": [
    {
     "name": "stdout",
     "output_type": "stream",
     "text": [
      "100\n"
     ]
    }
   ],
   "source": [
    "def quadrado(x):\n",
    "    y = x*x\n",
    "    return y\n",
    "\n",
    "n = quadrado(10)\n",
    "\n",
    "print(n)"
   ]
  },
  {
   "cell_type": "code",
   "execution_count": 8,
   "metadata": {},
   "outputs": [
    {
     "name": "stdout",
     "output_type": "stream",
     "text": [
      "o quadro do número é: 4.0\n"
     ]
    }
   ],
   "source": [
    "def  numquad():\n",
    "    num = float(input(\"Digite um número: \"))\n",
    "    quadrado = num ** 2\n",
    "    print(f\"o quadro do número é: {quadrado}\")\n",
    "    \n",
    "numquad()    "
   ]
  },
  {
   "cell_type": "code",
   "execution_count": 2,
   "metadata": {},
   "outputs": [
    {
     "name": "stdout",
     "output_type": "stream",
     "text": [
      "Meu nome é Thiago\n"
     ]
    }
   ],
   "source": [
    "nome = input(\"digite seu nome: \")\n",
    "\n",
    "print(f\"Meu nome é {nome}\" )"
   ]
  },
  {
   "cell_type": "markdown",
   "metadata": {},
   "source": [
    "# Working with list"
   ]
  },
  {
   "cell_type": "code",
   "execution_count": 1,
   "metadata": {},
   "outputs": [],
   "source": [
    "bicycles = ['Trek','cannondale','redline','specialized']"
   ]
  },
  {
   "cell_type": "code",
   "execution_count": 4,
   "metadata": {},
   "outputs": [
    {
     "name": "stdout",
     "output_type": "stream",
     "text": [
      "Trek cannondale\n"
     ]
    }
   ],
   "source": [
    "print(bicycles[0], bicycles[1])"
   ]
  },
  {
   "cell_type": "code",
   "execution_count": 8,
   "metadata": {},
   "outputs": [
    {
     "name": "stdout",
     "output_type": "stream",
     "text": [
      "['Trek', 'cannondale', 'redline', 'specialized']\n",
      "['Trek', 'cannondale', 'redline', 'specialized']\n",
      "['Trek', 'cannondale', 'redline', 'specialized']\n",
      "['Trek', 'cannondale', 'redline', 'specialized']\n"
     ]
    }
   ],
   "source": [
    "for i in range(len(bicycles)):\n",
    "    print(bicycles)"
   ]
  },
  {
   "cell_type": "code",
   "execution_count": 18,
   "metadata": {},
   "outputs": [
    {
     "name": "stdout",
     "output_type": "stream",
     "text": [
      "número é  1 impar\n",
      "o número é 2 par\n",
      "número é  3 impar\n",
      "o número é 4 par\n",
      "número é  5 impar\n",
      "o número é 6 par\n",
      "número é  7 impar\n",
      "o número é 8 par\n",
      "número é  9 impar\n",
      "o número é 10 par\n"
     ]
    }
   ],
   "source": [
    "# exercicio para indicar se um numero eh par ou impar\n",
    "umeros = [1, 2, 3, 4, 5, 6, 7, 8, 9, 10]\n",
    "\n",
    "for n in numeros:\n",
    "    if n%2 == 0:\n",
    "        print(\"o número é \" + str(n) + \" par\")\n",
    "    else:\n",
    "        print(\"número é  \"+ str(n) + \" impar\")"
   ]
  },
  {
   "cell_type": "code",
   "execution_count": 21,
   "metadata": {},
   "outputs": [
    {
     "name": "stdout",
     "output_type": "stream",
     "text": [
      "A soma é 15\n"
     ]
    }
   ],
   "source": [
    "# exercicio para somar valores de uma lista\n",
    "\n",
    "numeros = [1, 2, 3, 4, 5]\n",
    "\n",
    "soma = 0\n",
    "\n",
    "for n in numeros:\n",
    "    soma=soma + n\n",
    "print(\"A soma é \"+ str(soma))"
   ]
  },
  {
   "cell_type": "code",
   "execution_count": 23,
   "metadata": {},
   "outputs": [
    {
     "name": "stdout",
     "output_type": "stream",
     "text": [
      "120\n"
     ]
    }
   ],
   "source": [
    "#  faotrial de um numero\n",
    "\n",
    "# range(start, stop, step)\n",
    "n= int(input(\"Digite um valor de um número para calcular o produtotorio: \"))\n",
    "\n",
    "produto=1\n",
    "\n",
    "for i in range(1, n+1):\n",
    "    produto*=i\n",
    "print(produto)    \n",
    "\n",
    "\n",
    "\n",
    "\n",
    "\n",
    "\n"
   ]
  },
  {
   "cell_type": "code",
   "execution_count": 3,
   "metadata": {},
   "outputs": [
    {
     "name": "stdout",
     "output_type": "stream",
     "text": [
      "A string 'thiago' contém 3 vogais.\n"
     ]
    }
   ],
   "source": [
    "\n",
    "texto = input(\"Digite uma vogal: \").lower()\n",
    "\n",
    "vogal= 'aeiou'\n",
    "\n",
    "contador_vogal = 0\n",
    "\n",
    "for letra in texto:\n",
    "    if letra in vogal:\n",
    "        contador_vogal +=1\n",
    "        \n",
    "\n",
    "print(f\"A string '{texto}' contém {contador_vogal} vogais.\")"
   ]
  },
  {
   "cell_type": "code",
   "execution_count": 11,
   "metadata": {},
   "outputs": [
    {
     "name": "stdout",
     "output_type": "stream",
     "text": [
      "A média é:  30.0\n"
     ]
    }
   ],
   "source": [
    "# médias de um vetor\n",
    "numeros = [10, 20, 30, 40, 50]\n",
    "soma=0\n",
    "\n",
    "for n in numeros:\n",
    "    soma=soma+n\n",
    "    # print(n)     \n",
    "print(\"A média é: \",soma/len(numeros))\n"
   ]
  },
  {
   "cell_type": "code",
   "execution_count": 22,
   "metadata": {},
   "outputs": [
    {
     "name": "stdout",
     "output_type": "stream",
     "text": [
      "0\n",
      "1\n",
      "2\n",
      "3\n",
      "4\n",
      "5\n",
      "6\n",
      "7\n",
      "8\n",
      "9\n",
      "10\n",
      "11\n",
      "12\n",
      "13\n",
      "14\n",
      "15\n",
      "16\n",
      "17\n",
      "18\n",
      "19\n",
      "20\n",
      "21\n",
      "22\n",
      "23\n",
      "24\n",
      "25\n",
      "26\n",
      "27\n",
      "28\n",
      "29\n",
      "30\n",
      "31\n",
      "32\n",
      "33\n",
      "34\n",
      "35\n",
      "36\n",
      "37\n",
      "38\n",
      "39\n",
      "40\n",
      "41\n",
      "42\n",
      "43\n",
      "44\n",
      "45\n",
      "46\n",
      "47\n",
      "48\n",
      "49\n",
      "50\n",
      "51\n",
      "52\n",
      "53\n",
      "54\n",
      "55\n",
      "56\n",
      "57\n",
      "58\n",
      "59\n",
      "60\n",
      "61\n",
      "62\n",
      "63\n",
      "64\n",
      "65\n",
      "66\n",
      "67\n",
      "68\n",
      "69\n",
      "70\n",
      "71\n",
      "72\n",
      "73\n",
      "74\n",
      "75\n",
      "76\n",
      "77\n",
      "78\n",
      "79\n",
      "80\n",
      "81\n",
      "82\n",
      "83\n",
      "84\n",
      "85\n",
      "86\n",
      "87\n",
      "88\n",
      "89\n",
      "90\n",
      "91\n",
      "92\n",
      "93\n",
      "94\n",
      "95\n",
      "96\n",
      "97\n",
      "98\n",
      "99\n",
      "100\n"
     ]
    }
   ],
   "source": [
    "#mostrar os 100 primeiros numeros da sequencia de fibonacci\n",
    "\n",
    "primeiro=segundo=1\n",
    "\n",
    "n=100\n",
    "\n",
    "for i in range(n+1):\n",
    "    print(i)\n",
    "\n",
    "\n"
   ]
  },
  {
   "cell_type": "markdown",
   "metadata": {},
   "source": [
    "### Working with fractions"
   ]
  },
  {
   "cell_type": "code",
   "execution_count": 13,
   "metadata": {},
   "outputs": [
    {
     "name": "stdout",
     "output_type": "stream",
     "text": [
      "3/4\n"
     ]
    }
   ],
   "source": [
    "from fractions import Fraction\n",
    "\n",
    "f = Fraction(3, 4)\n",
    "\n",
    "print(f)"
   ]
  },
  {
   "cell_type": "code",
   "execution_count": 17,
   "metadata": {},
   "outputs": [
    {
     "name": "stdout",
     "output_type": "stream",
     "text": [
      "2\n"
     ]
    }
   ],
   "source": [
    "a = Fraction(3, 4)+1+Fraction(1/4)     \n",
    "a\n",
    "print(a)"
   ]
  }
 ],
 "metadata": {
  "kernelspec": {
   "display_name": "Python 3",
   "language": "python",
   "name": "python3"
  },
  "language_info": {
   "codemirror_mode": {
    "name": "ipython",
    "version": 3
   },
   "file_extension": ".py",
   "mimetype": "text/x-python",
   "name": "python",
   "nbconvert_exporter": "python",
   "pygments_lexer": "ipython3",
   "version": "3.9.16"
  },
  "orig_nbformat": 4,
  "vscode": {
   "interpreter": {
    "hash": "ef45b6e33d83214dc3f38c7cb493df1c60e710c11f51dd45a20f2f41eedc45a7"
   }
  }
 },
 "nbformat": 4,
 "nbformat_minor": 2
}
