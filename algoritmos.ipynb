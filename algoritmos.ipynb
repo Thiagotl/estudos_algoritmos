{
 "cells": [
  {
   "attachments": {},
   "cell_type": "markdown",
   "metadata": {},
   "source": [
    "## Algoritmo de Pesquisa Binária"
   ]
  },
  {
   "cell_type": "code",
   "execution_count": 27,
   "metadata": {},
   "outputs": [
    {
     "name": "stdout",
     "output_type": "stream",
     "text": [
      "None\n",
      "None\n",
      "3\n"
     ]
    }
   ],
   "source": [
    "def  pesquisa_binaria (lista, item):\n",
    "    baixo = 0\n",
    "    alto = len(lista) -1\n",
    "    while  baixo <= alto:\n",
    "        meio = round((baixo + alto) / 2)\n",
    "        chute = lista[meio]\n",
    "        if chute == item:\n",
    "            return meio\n",
    "        if chute > item:\n",
    "            alto = meio -1\n",
    "        else:\n",
    "            baixo = meio +1\n",
    "    return None\n",
    "\n",
    "minha_lista = [1, 2, 5, 7, 9]\n",
    "\n",
    "\n",
    "print  (pesquisa_binaria(minha_lista,  3))\n",
    "print  (pesquisa_binaria(minha_lista, -1))\n",
    "print (pesquisa_binaria(minha_lista,  7))"
   ]
  }
 ],
 "metadata": {
  "kernelspec": {
   "display_name": "Python 3",
   "language": "python",
   "name": "python3"
  },
  "language_info": {
   "codemirror_mode": {
    "name": "ipython",
    "version": 3
   },
   "file_extension": ".py",
   "mimetype": "text/x-python",
   "name": "python",
   "nbconvert_exporter": "python",
   "pygments_lexer": "ipython3",
   "version": "3.11.1"
  },
  "orig_nbformat": 4,
  "vscode": {
   "interpreter": {
    "hash": "ef45b6e33d83214dc3f38c7cb493df1c60e710c11f51dd45a20f2f41eedc45a7"
   }
  }
 },
 "nbformat": 4,
 "nbformat_minor": 2
}
