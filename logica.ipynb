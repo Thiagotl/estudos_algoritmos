{
 "cells": [
  {
   "cell_type": "markdown",
   "metadata": {},
   "source": [
    "## Notebook para exercicios de lógica "
   ]
  },
  {
   "cell_type": "code",
   "execution_count": 3,
   "metadata": {},
   "outputs": [
    {
     "name": "stdout",
     "output_type": "stream",
     "text": [
      "a soma entre os dois números é  10.0\n"
     ]
    }
   ],
   "source": [
    "n1 = float(input(\"Digite um valor: \"))\n",
    "n2 = float(input(\"Digite um segundo valor: \"))\n",
    "\n",
    "soma = n1 + n2\n",
    "\n",
    "print(f\"a soma entre os dois números é  {soma}\")"
   ]
  },
  {
   "cell_type": "code",
   "execution_count": 4,
   "metadata": {},
   "outputs": [
    {
     "name": "stdout",
     "output_type": "stream",
     "text": [
      "analisando o número 2, seu antecessor 1 e seu sucessor é 3\n"
     ]
    }
   ],
   "source": [
    "n = int(input(\"Digite um número: \"))\n",
    "\n",
    "ant = n-1\n",
    "suc = n+1\n",
    "\n",
    "print(f\"analisando o número {n}, seu antecessor {ant} e seu sucessor é {suc}\")"
   ]
  },
  {
   "cell_type": "code",
   "execution_count": 5,
   "metadata": {},
   "outputs": [
    {
     "name": "stdout",
     "output_type": "stream",
     "text": [
      "analisando o valor 64.0, seu dobro é 128.0, seu triplo é 192.0, e sua taiz quadrada é 8.0\n"
     ]
    }
   ],
   "source": [
    "n = float(input(\"Digite um número: \"))\n",
    "\n",
    "dobro = n * 2\n",
    "triplo = n * 3\n",
    "raiz = n ** 0.5\n",
    "\n",
    "\n",
    "print(f\"analisando o valor {n}, seu dobro é {dobro}, seu triplo é {triplo}, e sua taiz quadrada é {raiz}\")"
   ]
  }
 ],
 "metadata": {
  "kernelspec": {
   "display_name": "venv",
   "language": "python",
   "name": "python3"
  },
  "language_info": {
   "codemirror_mode": {
    "name": "ipython",
    "version": 3
   },
   "file_extension": ".py",
   "mimetype": "text/x-python",
   "name": "python",
   "nbconvert_exporter": "python",
   "pygments_lexer": "ipython3",
   "version": "3.9.16+"
  }
 },
 "nbformat": 4,
 "nbformat_minor": 2
}
