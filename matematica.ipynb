{
 "cells": [
  {
   "cell_type": "markdown",
   "id": "1ac270aa",
   "metadata": {},
   "source": [
    "### Matemática -  livro math with python"
   ]
  },
  {
   "cell_type": "markdown",
   "id": "0824078e",
   "metadata": {
    "vscode": {
     "languageId": "plaintext"
    }
   },
   "source": [
    "### Working with numbers"
   ]
  },
  {
   "cell_type": "code",
   "execution_count": null,
   "id": "cdf25414",
   "metadata": {},
   "outputs": [
    {
     "data": {
      "text/plain": [
       "complex"
      ]
     },
     "execution_count": 2,
     "metadata": {},
     "output_type": "execute_result"
    }
   ],
   "source": [
    "# https://towardsdatascience.com/jypyter-notebook-shortcuts-bf0101a98330/\n",
    "a=2+3j\n",
    "type(a)"
   ]
  },
  {
   "cell_type": "code",
   "execution_count": 4,
   "id": "bd19e9f9",
   "metadata": {},
   "outputs": [
    {
     "data": {
      "text/plain": [
       "complex"
      ]
     },
     "execution_count": 4,
     "metadata": {},
     "output_type": "execute_result"
    }
   ],
   "source": [
    "b=complex(2, 3)\n",
    "\n",
    "type(b)"
   ]
  },
  {
   "cell_type": "code",
   "execution_count": 5,
   "id": "c88deaba",
   "metadata": {},
   "outputs": [],
   "source": [
    "c=float(input(\"write a number: \"))"
   ]
  },
  {
   "cell_type": "code",
   "execution_count": 1,
   "id": "5ed925b4",
   "metadata": {},
   "outputs": [
    {
     "name": "stdout",
     "output_type": "stream",
     "text": [
      "Divisão não exata\n"
     ]
    }
   ],
   "source": [
    "number = round(float(input (\"Digite um numero: \")))\n",
    "number2 = round(float(input (\"Digite um numero: \")))\n",
    "\n",
    "div = number%number2\n",
    "\n",
    "if div == 0 :\n",
    "    print(\"Divisão exata\")\n",
    "\n",
    "else:\n",
    "    print(\"Divisão não exata\")"
   ]
  },
  {
   "cell_type": "code",
   "execution_count": 15,
   "id": "d52ba559",
   "metadata": {},
   "outputs": [],
   "source": [
    "def is_factor(a, b):\n",
    "    if b % a == 0:\n",
    "        return True\n",
    "    else:\n",
    "         return False"
   ]
  },
  {
   "cell_type": "code",
   "execution_count": 16,
   "id": "46a38545",
   "metadata": {},
   "outputs": [
    {
     "data": {
      "text/plain": [
       "False"
      ]
     },
     "execution_count": 16,
     "metadata": {},
     "output_type": "execute_result"
    }
   ],
   "source": [
    "is_factor(5, 2)"
   ]
  },
  {
   "cell_type": "code",
   "execution_count": 19,
   "id": "32b93f31",
   "metadata": {},
   "outputs": [
    {
     "name": "stdout",
     "output_type": "stream",
     "text": [
      "1\n",
      "2\n",
      "3\n",
      "4\n"
     ]
    }
   ],
   "source": [
    "for i in range(1, 5):\n",
    "    print(i)"
   ]
  },
  {
   "cell_type": "code",
   "execution_count": 2,
   "id": "94d6e2cc",
   "metadata": {},
   "outputs": [
    {
     "name": "stdout",
     "output_type": "stream",
     "text": [
      "1\n",
      "3\n",
      "5\n",
      "7\n",
      "9\n"
     ]
    }
   ],
   "source": [
    "for i in range(1, 10,  2):\n",
    "    print(i)"
   ]
  },
  {
   "cell_type": "code",
   "execution_count": 1,
   "id": "e3f1b8bc",
   "metadata": {},
   "outputs": [
    {
     "name": "stdout",
     "output_type": "stream",
     "text": [
      "1\n",
      "5\n",
      "25\n"
     ]
    }
   ],
   "source": [
    "def factors(b):\n",
    "    for i in range(1, b+1):\n",
    "        if b % i == 0:\n",
    "            print(i)\n",
    "\n",
    "\n",
    "if __name__ == '__main__':\n",
    "    \n",
    "    b = input(\"Your number please: \")\n",
    "    b = float(b)\n",
    "    \n",
    "    if b > 0 and b.is_integer():\n",
    "        factors(int(b))\n",
    "    \n",
    "    else:\n",
    "        print (\"Please enter a posite integer\") \n",
    "    "
   ]
  },
  {
   "cell_type": "code",
   "execution_count": 2,
   "id": "ae0b583b",
   "metadata": {},
   "outputs": [
    {
     "data": {
      "text/plain": [
       "True"
      ]
     },
     "execution_count": 2,
     "metadata": {},
     "output_type": "execute_result"
    }
   ],
   "source": [
    "b = 8\n",
    "b.is_integer()"
   ]
  },
  {
   "cell_type": "code",
   "execution_count": null,
   "id": "6418122c",
   "metadata": {},
   "outputs": [],
   "source": []
  },
  {
   "cell_type": "code",
   "execution_count": 3,
   "id": "c4d4bc47",
   "metadata": {},
   "outputs": [
    {
     "name": "stdout",
     "output_type": "stream",
     "text": [
      "At the grocery store, I bought some apples, grapes and Bananas\n"
     ]
    }
   ],
   "source": [
    "item1 = \"apples\"\n",
    "item2 = \"grapes\"\n",
    "item3= \"Bananas\"\n",
    "\n",
    "\n",
    "print(\"At the grocery store, I bought some {0}, {1} and {2}\".format(item1, item2, item3))\n"
   ]
  },
  {
   "cell_type": "code",
   "execution_count": 11,
   "id": "ca1f0b70",
   "metadata": {},
   "outputs": [
    {
     "name": "stdout",
     "output_type": "stream",
     "text": [
      "5.8 x 1 = 5.80\n",
      "5.8 x 2 = 11.60\n",
      "5.8 x 3 = 17.40\n",
      "5.8 x 4 = 23.20\n",
      "5.8 x 5 = 29.00\n",
      "5.8 x 6 = 34.80\n",
      "5.8 x 7 = 40.60\n",
      "5.8 x 8 = 46.40\n",
      "5.8 x 9 = 52.20\n"
     ]
    }
   ],
   "source": [
    "def multi(a):\n",
    "    \n",
    "    for i in range(1, 10):\n",
    "        print('{} x {} = {:.2f}'.format(a, i, a*i))\n",
    "        \n",
    "if __name__ == '__main__' :\n",
    "    \n",
    "    a = input(\"Send a number\")\n",
    "    \n",
    "    multi(float(a))\n",
    "    "
   ]
  }
 ],
 "metadata": {
  "kernelspec": {
   "display_name": "venv",
   "language": "python",
   "name": "python3"
  },
  "language_info": {
   "codemirror_mode": {
    "name": "ipython",
    "version": 3
   },
   "file_extension": ".py",
   "mimetype": "text/x-python",
   "name": "python",
   "nbconvert_exporter": "python",
   "pygments_lexer": "ipython3",
   "version": "3.12.3"
  }
 },
 "nbformat": 4,
 "nbformat_minor": 5
}
